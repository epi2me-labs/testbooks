{
 "cells": [
  {
   "cell_type": "markdown",
   "metadata": {
    "colab_type": "text",
    "id": "eyhWQcLLP6Kt"
   },
   "source": [
    "<h1>Introduction to Variant Call Format (.vcf) files</h1>\n",
    "\n",
    "The tutorial provides a short introduction to [Variant Call Format](https://en.wikipedia.org/wiki/Variant_Call_Format) files used in bioinformatics to store differences between the DNA sequence of a sample and that of a reference sequence.\n",
    "\n",
    "Methods used in this tutorial include:\n",
    "\n",
    "* `pysam` for iterating through VCF files,\n",
    "* `pandas` for manipulating VCF files as a table, and\n",
    "* `bcftools` for filtering VCF files on the command-line.\n",
    "\n",
    "The computational requirements for this tutorial are:\n",
    "\n",
    "* A computer running the EPI2ME Labs Server environment,\n",
    "* 8Gb RAM.\n",
    "\n",
    "> ⚠️ **Warning:** This notebook has been saved with its outputs for demostration purposed. It is recommeded to select `Edit > Clear all outputs` before using the notebook to analyse your own data.\n",
    "\n"
   ]
  },
  {
   "cell_type": "markdown",
   "metadata": {
    "colab_type": "text",
    "id": "a0y2JPI9SlxM"
   },
   "source": [
    "## Introduction\n",
    "\n",
    "This tutorial aims to elucidate the information stored with a Variant Call Format (VCF) file, and how such files can be read, or parsed, within the Python programming language and on the command line.\n",
    "\n",
    "The goals from this tutorial include:\n",
    "\n",
    "* Understand the basic concepts of a Variant Call Format (VCF),\n",
    "* Know how to manipulate a VCF file as a simple table,\n",
    "* Be able to iterate through records of a VCF using `pysam`, and\n",
    "* Have an awareness of command-line tools which can be used to manipulate VCF files."
   ]
  },
  {
   "cell_type": "markdown",
   "metadata": {
    "colab_type": "text",
    "id": "VWIv_lakSnbh"
   },
   "source": [
    "The tutorial includes a sample VCF file output by [medaka](https://github.com/nanoporetech/medaka) from whole genome sequencing of the Genome in a Bottle ([GIAB](https://www.nist.gov/programs-projects/genome-bottle)) HG002 sample."
   ]
  },
  {
   "cell_type": "markdown",
   "metadata": {
    "colab_type": "text",
    "id": "ZMhjoLNaP6Ku"
   },
   "source": [
    "## Getting started\n",
    "\n",
    "Before anything else we will create and set a working directory:"
   ]
  },
  {
   "cell_type": "code",
   "execution_count": 2,
   "metadata": {
    "colab": {
     "base_uri": "https://localhost:8080/",
     "height": 35
    },
    "colab_type": "code",
    "id": "MVacV0gxWwel",
    "outputId": "c844ac04-8967-47af-f20b-45babe23ef19"
   },
   "outputs": [
    {
     "name": "stdout",
     "output_type": "stream",
     "text": [
      "/epi2melabs/vcf-tutorial\n"
     ]
    }
   ],
   "source": [
    "from epi2melabs import ping\n",
    "tutorial_name = \"vcf-tutorial\"\n",
    "pinger = ping.Pingu()\n",
    "pinger.send_notebook_ping('start', tutorial_name)\n",
    "\n",
    "# create a work directory and move into it\n",
    "working_dir = '/epi2melabs/{}/'.format(tutorial_name)\n",
    "!mkdir -p \"$working_dir\"\n",
    "%cd \"$working_dir\""
   ]
  },
  {
   "cell_type": "markdown",
   "metadata": {
    "colab_type": "text",
    "id": "v5uwBJCVECBg"
   },
   "source": [
    "### Sample Data\n",
    "\n",
    "In order to provide a concrete example of handling a long-read VCF file this tutorial is provided with an example file produced by Oxford Nanopore Technologies' consensus and variant calling program Medaka.\n",
    "\n",
    "To download the sample file we run the `linux` command `wget`. To execute the command click on the cell and then press Command/Ctrl-Enter, or click the Play symbol to the left-hand side."
   ]
  },
  {
   "cell_type": "code",
   "execution_count": 3,
   "metadata": {
    "colab": {
     "base_uri": "https://localhost:8080/",
     "height": 421
    },
    "colab_type": "code",
    "id": "9bAE0vYvEia0",
    "outputId": "7761a7d9-ded7-4613-a5f3-8ba8ac698659"
   },
   "outputs": [
    {
     "name": "stdout",
     "output_type": "stream",
     "text": [
      "--2020-10-22 09:17:56--  https://ont-exd-int-s3-euwst1-epi2me-labs.s3-eu-west-1.amazonaws.com/vcf_tutorial/ont_hg002/medaka.vcf.gz.tbi\n",
      "Resolving ont-exd-int-s3-euwst1-epi2me-labs.s3-eu-west-1.amazonaws.com (ont-exd-int-s3-euwst1-epi2me-labs.s3-eu-west-1.amazonaws.com)... 52.218.110.40\n",
      "Connecting to ont-exd-int-s3-euwst1-epi2me-labs.s3-eu-west-1.amazonaws.com (ont-exd-int-s3-euwst1-epi2me-labs.s3-eu-west-1.amazonaws.com)|52.218.110.40|:443... connected.\n",
      "HTTP request sent, awaiting response... 200 OK\n",
      "Length: 1636239 (1.6M) [binary/octet-stream]\n",
      "Saving to: ‘medaka.vcf.gz.tbi’\n",
      "\n",
      "medaka.vcf.gz.tbi   100%[===================>]   1.56M  4.01MB/s    in 0.4s    \n",
      "\n",
      "2020-10-22 09:17:57 (4.01 MB/s) - ‘medaka.vcf.gz.tbi’ saved [1636239/1636239]\n",
      "\n",
      "--2020-10-22 09:17:57--  https://ont-exd-int-s3-euwst1-epi2me-labs.s3-eu-west-1.amazonaws.com/vcf_tutorial/ont_hg002/medaka.vcf.gz\n",
      "Resolving ont-exd-int-s3-euwst1-epi2me-labs.s3-eu-west-1.amazonaws.com (ont-exd-int-s3-euwst1-epi2me-labs.s3-eu-west-1.amazonaws.com)... 52.218.110.40\n",
      "Connecting to ont-exd-int-s3-euwst1-epi2me-labs.s3-eu-west-1.amazonaws.com (ont-exd-int-s3-euwst1-epi2me-labs.s3-eu-west-1.amazonaws.com)|52.218.110.40|:443... connected.\n",
      "HTTP request sent, awaiting response... 200 OK\n",
      "Length: 157697896 (150M) [text/vcard]\n",
      "Saving to: ‘medaka.vcf.gz’\n",
      "\n",
      "medaka.vcf.gz       100%[===================>] 150.39M  7.04MB/s    in 23s     \n",
      "\n",
      "2020-10-22 09:18:20 (6.65 MB/s) - ‘medaka.vcf.gz’ saved [157697896/157697896]\n",
      "\n"
     ]
    }
   ],
   "source": [
    "bucket = \"ont-exd-int-s3-euwst1-epi2me-labs\"\n",
    "domain = \"s3-eu-west-1.amazonaws.com\"\n",
    "site = \"https://{}.{}\".format(bucket, domain)\n",
    "site = \"https://ont-exd-int-s3-euwst1-epi2me-labs.s3-eu-west-1.amazonaws.com\"\n",
    "\n",
    "!mkdir -p sample_data\n",
    "!cd sample_data && wget -O medaka.vcf.gz.tbi $site/vcf_tutorial/ont_hg002/medaka.vcf.gz.tbi\n",
    "!cd sample_data && wget -O medaka.vcf.gz $site/vcf_tutorial/ont_hg002/medaka.vcf.gz"
   ]
  },
  {
   "cell_type": "markdown",
   "metadata": {
    "colab_type": "text",
    "id": "1VM9k1NGZ8co"
   },
   "source": [
    "### Data entry\n",
    "\n",
    "Having downloaded the sample data we need to provide the filepaths as input to the notebook.\n",
    "\n",
    "The form can be used to enter the filenames of your inputs."
   ]
  },
  {
   "cell_type": "code",
   "execution_count": 1,
   "metadata": {
    "autorun": true,
    "cellView": "form",
    "colab": {
     "base_uri": "https://localhost:8080/",
     "height": 90
    },
    "colab_type": "code",
    "id": "hexEX4x8VPfA",
    "jupyter": {
     "source_hidden": true
    },
    "outputId": "97470c78-e01b-42cd-bde3-69024ee00e24"
   },
   "outputs": [
    {
     "data": {
      "application/vnd.jupyter.widget-view+json": {
       "model_id": "1568c37706eb4e7282d06a88a7d0fadb",
       "version_major": 2,
       "version_minor": 0
      },
      "text/plain": [
       "VBox(children=(HBox(children=(Label(value='Input folder', layout=Layout(width='150px')), interactive(children=…"
      ]
     },
     "metadata": {},
     "output_type": "display_data"
    }
   ],
   "source": [
    "input_file = None\n",
    "output_folder = None\n",
    "\n",
    "def process_form(inputs):\n",
    "    global input_file\n",
    "    global output_folder\n",
    "    input_file = inputs.input_file\n",
    "    output_folder = inputs.output_folder\n",
    "    # run a command to concatenate all the files together\n",
    "    !cecho ok \"Making output folder\"\n",
    "    !mkdir -p \"$output_folder\"\n",
    "    !test -f \"$input_file\" \\\n",
    "        && cecho success \" - Found input file.\" \\\n",
    "        || cecho error \" - Input file does not exist.\"\n",
    "\n",
    "    # create index file\n",
    "    !cecho ok \"Creating index file\"\n",
    "    !tabix -f /epi2melabs/vcf-tutorial/sample_data/medaka.vcf.gz \\\n",
    "        && cecho success \" - Successfully created index.\" \\\n",
    "        || cecho error \" - Failed to create index file.\"\n",
    "\n",
    "from epi2melabs.notebook import InputForm, InputSpec\n",
    "input_form = InputForm(\n",
    "    InputSpec('input_file', 'Input folder', '/epi2melabs/vcf-tutorial/sample_data/medaka.vcf.gz'),\n",
    "    InputSpec('output_folder', 'Output folder', 'analysis'))\n",
    "input_form.add_process_button(process_form)\n",
    "input_form.display()"
   ]
  },
  {
   "cell_type": "markdown",
   "metadata": {
    "colab_type": "text",
    "id": "itAa1F4aBJnz"
   },
   "source": [
    "Executing the above form will have checked input files and attempted to create an index file for the specified VCF file. We will come back to index file later in the tutorial."
   ]
  },
  {
   "cell_type": "markdown",
   "metadata": {
    "colab_type": "text",
    "id": "bm8LasSbc5wL"
   },
   "source": [
    "## VCF files\n",
    "\n",
    "Before discussing how to read VCF files in Python we will first review their structure. The formal specification for VCF files can be found [here](https://samtools.github.io/hts-specs/VCFv4.3.pdf). This is a thorough technical document detailing many different use cases.  Here we will focus on a brief introduction to the common elements of all VCF files athough it is rather a turgid document.\n",
    "\n",
    "To understand a VCF file we must first recall how such a file has been produced. Classically the file will have been created by analysing alignments of sequencing reads to a reference database containing one or more reference sequences. VCF files refer to these reference sequences variously as `contig`s or `CHROM`s.\n",
    "\n",
    "Variant call format files are a human readable, text-based file format. Very often they will be compressed using a variant of gzip compression. Aside from the header sections they are tabular in nature. The three sections of a VCF file are:\n",
    "\n",
    "1.   Meta-information lines (prefixed with `##`) containing information helpful for interpreting the rest of the file,\n",
    "2.   The header line (prefixed with `#`) which labels the columns\n",
    "3.   Data lines containing the information regarding variants.\n",
    "\n",
    "For example the start of the medaka VCF looks like:"
   ]
  },
  {
   "cell_type": "code",
   "execution_count": 4,
   "metadata": {
    "colab": {
     "base_uri": "https://localhost:8080/",
     "height": 404
    },
    "colab_type": "code",
    "id": "aOIMicy3BJYn",
    "outputId": "2b44caa8-6e45-408c-8039-52bf8db03958"
   },
   "outputs": [
    {
     "name": "stdout",
     "output_type": "stream",
     "text": [
      "##fileformat=VCFv4.1\n",
      "##medaka_version=1.0.3\n",
      "##contig=<ID=chr1>\n",
      "##INFO=<ID=pos1,Number=.,Type=Integer,Description=\"POS of incorporated variants from haplotype 1\">\n",
      "##INFO=<ID=q1,Number=1,Type=Float,Description=\"Combined qual score for haplotype 1\">\n",
      "##INFO=<ID=pos2,Number=.,Type=Integer,Description=\"POS of incorporated variants from haplotype 2\">\n",
      "##INFO=<ID=q2,Number=1,Type=Float,Description=\"Combined qual score for haplotype 2\">\n",
      "##FORMAT=<ID=GT,Number=G,Type=String,Description=\"Genotype\">\n",
      "##FORMAT=<ID=GQ,Number=G,Type=Integer,Description=\"Genotype quality score\">\n",
      "##CL=medaka_variant -U -o chr1 -m r941_prom_variant_g360 -s r941_prom_snp_g360 -i PAD65442_3.6.1_pass.bam -f GCA_000001405.15_GRCh38_no_alt_analysis_set.fna -r chr1:0-10000000 -t 4; Fri  3 Jul 21:15:23 BST 2020\n",
      "#CHROM\tPOS\tID\tREF\tALT\tQUAL\tFILTER\tINFO\tFORMAT\tSAMPLE\n",
      "chr1\t10108\t.\tC\tCT\t14.91\tPASS\tpos1=10108;pos2=10108;q1=10.99;q2=18.83\tGT:GQ\t1|1:15\n",
      "chr1\t10177\t.\tA\tAC\t4.852\tPASS\tpos2=10177;q2=4.852\tGT:GQ\t0|1:5\n",
      "chr1\t10257\t.\tA\tC\t0.799\tPASS\tpos1=10257;q1=0.799\tGT:GQ\t1|0:1\n",
      "chr1\t10291\t.\tC\tT\t8.544\tPASS\tpos2=10291;q2=8.544\tGT:GQ\t0|1:9\n",
      "chr1\t10297\t.\tC\tT\t8.215\tPASS\tpos2=10297;q2=8.215\tGT:GQ\t0|1:8\n",
      "chr1\t10303\t.\tC\tT\t0.246\tPASS\tpos2=10303;q2=0.246\tGT:GQ\t0|1:0\n",
      "chr1\t10309\t.\tC\tT\t2.7155\tPASS\tpos1=10309;pos2=10309;q1=1.046;q2=4.385\tGT:GQ\t1|1:3\n",
      "chr1\t10315\t.\tC\tT\t4.8525\tPASS\tpos1=10315;pos2=10315;q1=3.083;q2=6.622\tGT:GQ\t1|1:5\n",
      "chr1\t10321\t.\tC\tT\t0.562\tPASS\tpos2=10321;q2=0.562\tGT:GQ\t0|1:1\n"
     ]
    }
   ],
   "source": [
    "# use zcat to decompress the file and head to read the first 20 lines\n",
    "!zcat $input_file 2>/dev/null | head -n 20"
   ]
  },
  {
   "cell_type": "markdown",
   "metadata": {
    "colab_type": "text",
    "id": "XGRF_SbSD5tt"
   },
   "source": [
    "We see that the meta-information lines are all of the form:\n",
    "\n",
    "```\n",
    "##key=value\n",
    "```\n",
    "\n",
    "The first of these is always a line describing the specific version of the format of the file, in this case version 4.1 of VCF (`fileformat=VCFv4.1`). Next we have a line stating the version of Medaka used to produce the VCF file, this line is bespoke to VCF files produced by Medaka. The third meta-information line `contig=<ID=chr1>` describes the fact that there could be variants in the file lying on the sequence named `chr1`. There will be as many such lines as there are unique sequences in the reference database to which the VCF file refers.\n",
    "\n",
    "We then have a set of lines which look like:\n",
    "```\n",
    "##INFO=<ID=...,Description=\"...\">\n",
    "```\n",
    "These lines describe the contents and datatypes of the `INFO` field of the data section of the file, we will return to these shortly. Following the `INFO` meta-information descriptors we have a similar set of `FORMAT` descriptors of the form:\n",
    "```\n",
    "##FORMAT=<ID=,...,Description=\"...\">\n",
    "```\n",
    "Similarly these describe the contents of the sample columns in the data section: a VCF file can have one of more sample columns, the Medaka VCF has a single sample column named (appropriately, or confusingly) `SAMPLE`.\n",
    "\n",
    "A final meta-infomation field `CL` describes the command-line program and options used to produce the VCF file.\n",
    "\n",
    "We see therefore that the meta-information section although optional in the VCF file specification, is rather crucial for understanding the contents of the rest of the file. Some of the information in the header is for the benefit of a human audience, whilst other parts are more to aid machine parsing."
   ]
  },
  {
   "cell_type": "markdown",
   "metadata": {
    "colab_type": "text",
    "id": "YNfuOuYsML4f"
   },
   "source": [
    "### The VCF data table\n",
    "\n",
    "In the above prelude we have introduced the meta-information section of VCF files. We will now move to examine the data section of VCF files.\n",
    "\n",
    "Aside from the header information a VCF file is simple a tab-delimited data table. Each row of the table describes a possible variant in one or more of the analysed samples, with the columns being:\n",
    "\n",
    "|   |   Name   | Brief description (see the specification for details).                                                                                                                                                          |\n",
    "|:-:|:--------:|-----------------------------------------------------------------------------------------------------------------------------------------------------------------------------------------------------------------|\n",
    "| 1 | CHROM    | The name of the sequence (typically a chromosome) on which the variation is being called (`contig` from the meta-information). This sequence is usually known as 'the reference sequence'.|\n",
    "| 2 | POS      | The 1-based position of the variation on the given sequence.                                                                                                                                                    |\n",
    "| 3 | ID       | The identifier of the variation, e.g. a dbSNP rs identifier, or if unknown a \".\". Multiple identifiers should be separated by semi-colons without white-space. Medaka will output a \".\" here.                                                  |\n",
    "| 4 | REF      | The reference base (or bases in the case of an indel) at the given position on the given reference sequence.                                                                                                    |\n",
    "| 5 | ALT      | The list of alternative alleles at this position, i.e. the sequence of \"the variant\"                                                                                                                                                               |\n",
    "| 6 | QUAL     | A quality score associated with the inference of the given alleles.                                                                                                                                             |\n",
    "| 7 | FILTER   | A flag indicating which of a given set of filters the variation has passed.                                                                                                                                     |\n",
    "| 8 | INFO     | An extensible list of key-value pairs describing the variation. Multiple fields are separated by semicolons with optional values in the format: <key>=<data>[,data]. The description of each field is given in the meta-information section. |\n",
    "| 9 | FORMAT   | An (optional) extensible list of fields for describing the samples. The description of each field is given in the meta-information section.                                                                                                         |\n",
    "| + | SAMPLEs  | For each (optional) sample described in the file, values are given for the fields listed in FORMAT.                                                                                                              |\n",
    "\n",
    "Let's rexamine the first three lines of the Medaka VCF with the above field descriptions in mind:"
   ]
  },
  {
   "cell_type": "code",
   "execution_count": 5,
   "metadata": {
    "colab": {
     "base_uri": "https://localhost:8080/",
     "height": 90
    },
    "colab_type": "code",
    "id": "3nTcmvj_T-lx",
    "outputId": "9095ffee-4a63-4f50-a62b-e3f75bd36ea5"
   },
   "outputs": [
    {
     "name": "stdout",
     "output_type": "stream",
     "text": [
      "#CHROM\tPOS\tID\tREF\tALT\tQUAL\tFILTER\tINFO\tFORMAT\tSAMPLE\n",
      "chr1\t10108\t.\tC\tCT\t14.91\tPASS\tpos1=10108;pos2=10108;q1=10.99;q2=18.83\tGT:GQ\t1|1:15\n",
      "chr1\t10177\t.\tA\tAC\t4.852\tPASS\tpos2=10177;q2=4.852\tGT:GQ\t0|1:5\n",
      "chr1\t10257\t.\tA\tC\t0.799\tPASS\tpos1=10257;q1=0.799\tGT:GQ\t1|0:1\n"
     ]
    }
   ],
   "source": [
    "# print the header line and the first three variants\n",
    "!zcat $input_file 2>/dev/null | head -n 20 | grep -A 3 '#CHROM'"
   ]
  },
  {
   "cell_type": "markdown",
   "metadata": {
    "colab_type": "text",
    "id": "nz1boLSYUT8U"
   },
   "source": [
    "So we have three rows, corresponding to three variants at positions `10108`, `10177`, and `10257`. Taking the last of these first, we see a reference base of `A` whereas the alternative (`ALT`) base is suggested as `C`. The variant therefore corresponds to a substitution of `A` for `C` in this sample. The quality (`QUAL`) of this variant is `0.799`, this value is a scaled probability:\n",
    "\n",
    "```\n",
    "−10 log10 [Prob(call in ALT is wrong)]\n",
    "```\n",
    "\n",
    "Note however that for the case of Medaka this interpretation should be taken with a pinch of salt, the scores output by the Medaka neural network have not been empirically calibrated to error rates of calls. The `FILTER` field for a VCF output directly by Medaka will contain either `PASS` or `lowqual`. For diploid variant calling Medaka performs a simple thresholding of variant qualities to mask possible false positive variants.\n",
    "\n",
    "The final three fields of the VCF table are rather more dense in information. First we have the `INFO` column. This column very often constitutes a sub-table within the main table: it is comprised of `key=value` pairs. A description of each key should be given in the meta-information section as described above. Here Medaka lists a `pos1/2` item which describes a position with respect to the calling of a variant in one of the two haplotypes. This is mainly an item for debugging. Secondly we have items of the form `q1/2`: these are similar to the main `QUAL` field but are expressed independently for the two haplotypes of the reference genome.\n",
    "\n",
    "Moving on to the `FORMAT` field, this is a specifier for how the information in the remaining (one or more) sample columns is stored. To understand `FORMAT` fully we must again refer back to the meta-information section of the file. In the Medaka example `GT:GQ` specifies that the sample columns contain first a genotype (`GT`), followed by a genotype quality score (`GQ`).\n",
    "\n",
    "The genotypes are encoded as allele values separated by either `/` or `|`. A `/` indicates the genotype is unphased whereas `|` that the genotype is phased. Two or more variants are said to be phased if the relation between the alleles of the genotypes is known across variants, else the variants are unphased. The allele values are 0 for the reference allele (what is in the `REF` field), 1 for the first allele listed in `ALT`, 2 for the second allele list in `ALT` and so on. For our substitution variant above we have a genotype `1|0` meaning a phased variant, the first allele is from the first `ALT` sequence `C` (the only `ALT`). The second allele is the reference base `A`. We therefore have a heterozygous variant indicated.\n",
    "\n",
    "Returning to the first and second variants in from the Medaka VCF we have the substitutions `C`>`CT` and `A`>`AC` respectively. In both cases this substitution of a single base with multiple bases means that we have an insertion variant. Likewise a deletion variant would be specified by, for example, `AG`>`A` meaning a deletion of a `G` at the position after that specified by `POS`. Note that special cases handle how insertion and deletions at the  of reference sequences are described, see the specification for more information. The first variant is a homozygous alternative variant `1|1` while the second is heterozygous `0|1` with the first allele being the reference base."
   ]
  },
  {
   "cell_type": "markdown",
   "metadata": {
    "colab_type": "text",
    "id": "UwY-VfVLjXff"
   },
   "source": [
    "### File compression and indexing\n",
    "\n",
    "Very often VCF files will not be stored as plain text but compressed to a binary stream. To compress a VCF file it is recommended to use the program [`bgzip`](http://www.htslib.org/doc/bgzip.html) rather than `gzip`. This program performs the compression in a manner which is both compatible with `gzip` but crucially can be indexed. The indexing allows rapid retrieval of variants spanning a particular reference location, value of `CHROM` and `POS`.\n",
    "\n",
    "Let's demonstrate how to compress a VCF file, by first taking a sample of the Medaka VCF:"
   ]
  },
  {
   "cell_type": "code",
   "execution_count": 6,
   "metadata": {
    "colab": {},
    "colab_type": "code",
    "id": "0hQq2M3FlXR_"
   },
   "outputs": [],
   "source": [
    "!zcat $input_file 2>/dev/null | head -n 10000 > snippet.vcf "
   ]
  },
  {
   "cell_type": "markdown",
   "metadata": {
    "colab_type": "text",
    "id": "R0UdTmltlnph"
   },
   "source": [
    "The file `snippet.vcf` is now a plain text file. Let's recompressed this extract using `bgzip`:"
   ]
  },
  {
   "cell_type": "code",
   "execution_count": 7,
   "metadata": {
    "colab": {},
    "colab_type": "code",
    "id": "MGevC22hmEiD"
   },
   "outputs": [],
   "source": [
    "!bgzip -f -c snippet.vcf > snippet.vcf.gz"
   ]
  },
  {
   "cell_type": "markdown",
   "metadata": {
    "colab_type": "text",
    "id": "UQHbAYksmNa7"
   },
   "source": [
    "to produce the file `snippet.vcf.gz` which can be indexed using the `tabix` program:"
   ]
  },
  {
   "cell_type": "code",
   "execution_count": 8,
   "metadata": {
    "colab": {},
    "colab_type": "code",
    "id": "_mlrgj5bmMfi"
   },
   "outputs": [],
   "source": [
    "!tabix snippet.vcf.gz"
   ]
  },
  {
   "cell_type": "markdown",
   "metadata": {
    "colab_type": "text",
    "id": "6WCQk89Tm4Xg"
   },
   "source": [
    "The utility of the compression is seen by observing the filesize of the files:"
   ]
  },
  {
   "cell_type": "code",
   "execution_count": 9,
   "metadata": {
    "colab": {
     "base_uri": "https://localhost:8080/",
     "height": 72
    },
    "colab_type": "code",
    "id": "RW6CYNoZm3nl",
    "outputId": "7430f855-1ef7-4005-b435-7bb9a3bfb451"
   },
   "outputs": [
    {
     "name": "stdout",
     "output_type": "stream",
     "text": [
      "715K snippet.vcf\n",
      "199K snippet.vcf.gz\n",
      "1.4K snippet.vcf.gz.tbi\n"
     ]
    }
   ],
   "source": [
    "!ls -lh snippet.vcf* | awk '{print $5, $9}'"
   ]
  },
  {
   "cell_type": "markdown",
   "metadata": {
    "colab_type": "text",
    "id": "ufzFEuDcniw0"
   },
   "source": [
    "Let's try to index a `gzip`-compressed file to observe what happens:"
   ]
  },
  {
   "cell_type": "code",
   "execution_count": 10,
   "metadata": {
    "colab": {
     "base_uri": "https://localhost:8080/",
     "height": 35
    },
    "colab_type": "code",
    "id": "y0Jy7LyznrqI",
    "outputId": "87d34cca-b407-44c6-9ec7-27a8a7f498a3"
   },
   "outputs": [
    {
     "name": "stdout",
     "output_type": "stream",
     "text": [
      "[tabix] the compression of 'snippet_gzip.vcf.gz' is not BGZF\n"
     ]
    }
   ],
   "source": [
    "!gzip -f -c snippet.vcf > snippet_gzip.vcf.gz\n",
    "!tabix snippet_gzip.vcf.gz"
   ]
  },
  {
   "cell_type": "markdown",
   "metadata": {
    "colab_type": "text",
    "id": "CSsA3gp5n0Q_"
   },
   "source": [
    "Tabix tells us that the file has not been compressed with bgzip and consequently it cannot create an index file."
   ]
  },
  {
   "cell_type": "markdown",
   "metadata": {
    "colab_type": "text",
    "id": "aWGSqbj8d088"
   },
   "source": [
    "## Manipulating VCF files\n",
    "\n",
    "The section above has given an outline to the data contained within a VCF file and how the file is arranged. In this section we will highlight several methods for parsing the data contained within a VCF. We will first show how to read such files in Python, and then introduce the standard `bcftools` suite of programs."
   ]
  },
  {
   "cell_type": "markdown",
   "metadata": {
    "colab_type": "text",
    "id": "B7GZfPGqOwT-"
   },
   "source": [
    "### Reading VCF files with Python\n",
    "\n",
    "There are a variety of Python libraries that aim to provide reasonably intuitive access to the data contained within a VCF file. Here we will briefly introduce the specialist [`pysam.VariantFile`](https://pysam.readthedocs.io/en/latest/api.html#vcf-files) parser before using the Pandas library to manipulate the file as a basic tabular format.\n"
   ]
  },
  {
   "cell_type": "markdown",
   "metadata": {
    "colab_type": "text",
    "id": "cVF7DD4zBqTn"
   },
   "source": [
    "#### Using pysam\n",
    "\n",
    "Pysam provides a convenient Python implementation of the [`htslib`](http://www.htslib.org/) suite of `C`-libaries for handling a core set of bioinformatics file formats including VCF files. The library understands the layout of a VCF file and provides a set of functions and code objects representing the data stored with the file. Much of the below is based simply on the corresponding section of the Pysam [documentation](https://pysam.readthedocs.io/en/latest/usage.html#working-with-vcf-bcf-formatted-files).\n",
    "\n",
    "Let's jump right in. To iterate through the first few records in a VCF file using `pysam` and print the reference name, the reference position and the mutation implied by the variant record we can perform the following:"
   ]
  },
  {
   "cell_type": "code",
   "execution_count": 11,
   "metadata": {
    "colab": {
     "base_uri": "https://localhost:8080/",
     "height": 72
    },
    "colab_type": "code",
    "id": "iR3vbS-adz5G",
    "outputId": "14101b90-3395-4771-d00f-416ebfd2682e"
   },
   "outputs": [
    {
     "name": "stdout",
     "output_type": "stream",
     "text": [
      "chr1 10108 C > CT\n",
      "chr1 10177 A > AC\n",
      "chr1 10257 A > C\n"
     ]
    }
   ],
   "source": [
    "import itertools\n",
    "from pysam import VariantFile\n",
    "\n",
    "# open the file\n",
    "vcf = VariantFile(input_file)\n",
    "# fetch the variants\n",
    "all_variants = vcf.fetch()\n",
    "# only look at 3 records\n",
    "variants = itertools.islice(all_variants, 3)\n",
    "\n",
    "for variant in variants:\n",
    "    print(variant.chrom, variant.pos, variant.ref, \">\", variant.alts[0])"
   ]
  },
  {
   "cell_type": "markdown",
   "metadata": {
    "colab_type": "text",
    "id": "fPcMiVwAQcU_"
   },
   "source": [
    "Note how as discussed above the non-reference, alternative sequence (`ALT`) includes surrounding bases in the case of insertion and deletion variants.\n",
    "\n",
    "For each of the columns of a VCF file Pysam creates an attribute of the `variant` object. This makes it particularly easy to retrieve information. For example in order to filter variants to the more confident calls we can examine the `QUAL` field of the variant records. Let's print out the `INFO` field for higher quality variants (and report the occurence of lower quality variants). Pysam parses the the information stored within the `INFO` column into a `VariantRecordInfo` object which can be understood as a Python dictionary:"
   ]
  },
  {
   "cell_type": "code",
   "execution_count": 12,
   "metadata": {
    "colab": {
     "base_uri": "https://localhost:8080/",
     "height": 201
    },
    "colab_type": "code",
    "id": "xgo1RImpRP85",
    "outputId": "72875066-615f-4b9d-d6b8-31e6310f3a23"
   },
   "outputs": [
    {
     "name": "stdout",
     "output_type": "stream",
     "text": [
      "chr1 10108 14.90999984741211 {'pos1': (10108,), 'pos2': (10108,), 'q1': 10.989999771118164, 'q2': 18.829999923706055}\n",
      "  Bad variant at position: 10177\n",
      "  Bad variant at position: 10257\n",
      "chr1 10291 8.543999671936035 {'pos2': (10291,), 'q2': 8.543999671936035}\n",
      "chr1 10297 8.21500015258789 {'pos2': (10297,), 'q2': 8.21500015258789}\n",
      "  Bad variant at position: 10303\n",
      "  Bad variant at position: 10309\n",
      "  Bad variant at position: 10315\n",
      "  Bad variant at position: 10321\n",
      "  Bad variant at position: 10381\n"
     ]
    }
   ],
   "source": [
    "# retrieve some data for the first 10 variants\n",
    "for variant in itertools.islice(vcf.fetch(), 10):\n",
    "    # print only variants with a high QUAL\n",
    "    if variant.qual > 7:\n",
    "        print(variant.chrom, variant.pos, variant.qual, dict(variant.info))\n",
    "    else:\n",
    "        print(\"  Bad variant at position:\", variant.pos)"
   ]
  },
  {
   "cell_type": "markdown",
   "metadata": {
    "colab_type": "text",
    "id": "t5cwEHKmt2ta"
   },
   "source": [
    "Viewing information from the header of the file is particularly easy:"
   ]
  },
  {
   "cell_type": "code",
   "execution_count": 13,
   "metadata": {
    "colab": {
     "base_uri": "https://localhost:8080/",
     "height": 110
    },
    "colab_type": "code",
    "id": "vG_ilPplt-OK",
    "outputId": "f1756f16-5552-486e-9aa5-b75dfb3658f5"
   },
   "outputs": [
    {
     "name": "stdout",
     "output_type": "stream",
     "text": [
      "contigs: ['chr1', 'chr2', 'chr3', 'chr4', 'chr5', 'chr6', 'chr7', 'chr8', 'chr9', 'chr10', 'chr11', 'chr12', 'chr13', 'chr14', 'chr15', 'chr16', 'chr17', 'chr18', 'chr19', 'chr20', 'chr21', 'chr22', 'chrX', 'chrY', 'chrM']\n",
      "filter values: ['PASS']\n",
      "INFO subfields: ['pos1', 'q1', 'pos2', 'q2']\n",
      "samples: ['SAMPLE']\n"
     ]
    }
   ],
   "source": [
    "print(\"contigs:\", list(vcf.header.contigs))\n",
    "print(\"filter values:\", list(vcf.header.filters))\n",
    "print(\"INFO subfields:\", list(vcf.header.info))\n",
    "print(\"samples:\", list(vcf.header.samples))"
   ]
  },
  {
   "cell_type": "markdown",
   "metadata": {
    "colab_type": "text",
    "id": "y9u31POMuGZe"
   },
   "source": [
    "The power of using Pysam to parse VCF files should not be underestimated as is provides a reliable, standards compliant way of accessing data. Not withstanding this fact we will now look at a second method for parsing VCF files in Python."
   ]
  },
  {
   "cell_type": "markdown",
   "metadata": {
    "colab_type": "text",
    "id": "NvbnBL3CV0EV"
   },
   "source": [
    "#### Using pandas\n",
    "\n",
    "We could continue to manipulate VCF files using `pysam` but for interaction with the Python ecosystem it can be easier to treat simply the VCF file as a standard data table using `pandas`. This allows us to leverage optimised functions for handling tabular data.\n",
    "\n",
    "For example the code below will parse the VCF in a way to allow easy plotting:"
   ]
  },
  {
   "cell_type": "code",
   "execution_count": 14,
   "metadata": {
    "colab": {},
    "colab_type": "code",
    "id": "nkIpBxM8o0mj"
   },
   "outputs": [],
   "source": [
    "import pandas as pd\n",
    "\n",
    "def parse_vcf(fname, info_cols=None, nrows=None):\n",
    "    \"\"\"Parse a VCF file. The INFO column is parsed to a dictionary.\n",
    "\n",
    "    :param info_cols: dict of field:dtype for INFO fields to store\n",
    "        as distinct column.\n",
    "    :param nrows: number of rows to read from file (including header). \n",
    "    \"\"\"\n",
    "    header = \"CHROM POS ID REF ALT QUAL FILTER INFO FORMAT GT\".split()\n",
    "    vcf = pd.read_csv(\n",
    "        fname, delimiter='\\t', comment='#', names=header, nrows=nrows)\n",
    "    # create a dictionary out of INFO\n",
    "    vcf['INFO'] = vcf['INFO'].str.split(\";\") \\\n",
    "        .apply(lambda x: dict([y.split(\"=\") for y in x]))\n",
    "    # add a column defining the type of the variant\n",
    "    rlen = vcf['REF'].apply(len)\n",
    "    alen = vcf['ALT'].apply(len)\n",
    "    vcf['type'] = 'sub'\n",
    "    vcf.loc[rlen > alen, 'type'] = 'del'\n",
    "    vcf.loc[rlen < alen, 'type'] = 'ins'\n",
    "    # add requested INFO subfields as columns\n",
    "    if info_cols is not None:\n",
    "        for field, dtype in info_cols.items():\n",
    "            try:\n",
    "                vcf[field] = vcf['INFO'].apply(lambda x: x.get(field, None))\n",
    "                vcf[field] = vcf[field].astype(dtype)\n",
    "            except:\n",
    "                pass\n",
    "    return vcf"
   ]
  },
  {
   "cell_type": "markdown",
   "metadata": {
    "colab_type": "text",
    "id": "D7ikiMW6pGQW"
   },
   "source": [
    "We can use this function to read our Medaka example VCF file and then create some basic plots:"
   ]
  },
  {
   "cell_type": "code",
   "execution_count": 15,
   "metadata": {
    "cellView": "both",
    "colab": {
     "base_uri": "https://localhost:8080/",
     "height": 347
    },
    "colab_type": "code",
    "id": "vodghZ4zV0Nh",
    "outputId": "e0ea816f-097d-43b3-c663-6440b123207d",
    "partialCollapse": true
   },
   "outputs": [
    {
     "data": {
      "application/javascript": [
       "\n",
       "(function(root) {\n",
       "  function now() {\n",
       "    return new Date();\n",
       "  }\n",
       "\n",
       "  var force = true;\n",
       "\n",
       "  if (typeof root._bokeh_onload_callbacks === \"undefined\" || force === true) {\n",
       "    root._bokeh_onload_callbacks = [];\n",
       "    root._bokeh_is_loading = undefined;\n",
       "  }\n",
       "\n",
       "  var JS_MIME_TYPE = 'application/javascript';\n",
       "  var HTML_MIME_TYPE = 'text/html';\n",
       "  var EXEC_MIME_TYPE = 'application/vnd.bokehjs_exec.v0+json';\n",
       "  var CLASS_NAME = 'output_bokeh rendered_html';\n",
       "\n",
       "  /**\n",
       "   * Render data to the DOM node\n",
       "   */\n",
       "  function render(props, node) {\n",
       "    var script = document.createElement(\"script\");\n",
       "    node.appendChild(script);\n",
       "  }\n",
       "\n",
       "  /**\n",
       "   * Handle when an output is cleared or removed\n",
       "   */\n",
       "  function handleClearOutput(event, handle) {\n",
       "    var cell = handle.cell;\n",
       "\n",
       "    var id = cell.output_area._bokeh_element_id;\n",
       "    var server_id = cell.output_area._bokeh_server_id;\n",
       "    // Clean up Bokeh references\n",
       "    if (id != null && id in Bokeh.index) {\n",
       "      Bokeh.index[id].model.document.clear();\n",
       "      delete Bokeh.index[id];\n",
       "    }\n",
       "\n",
       "    if (server_id !== undefined) {\n",
       "      // Clean up Bokeh references\n",
       "      var cmd = \"from bokeh.io.state import curstate; print(curstate().uuid_to_server['\" + server_id + \"'].get_sessions()[0].document.roots[0]._id)\";\n",
       "      cell.notebook.kernel.execute(cmd, {\n",
       "        iopub: {\n",
       "          output: function(msg) {\n",
       "            var id = msg.content.text.trim();\n",
       "            if (id in Bokeh.index) {\n",
       "              Bokeh.index[id].model.document.clear();\n",
       "              delete Bokeh.index[id];\n",
       "            }\n",
       "          }\n",
       "        }\n",
       "      });\n",
       "      // Destroy server and session\n",
       "      var cmd = \"import bokeh.io.notebook as ion; ion.destroy_server('\" + server_id + \"')\";\n",
       "      cell.notebook.kernel.execute(cmd);\n",
       "    }\n",
       "  }\n",
       "\n",
       "  /**\n",
       "   * Handle when a new output is added\n",
       "   */\n",
       "  function handleAddOutput(event, handle) {\n",
       "    var output_area = handle.output_area;\n",
       "    var output = handle.output;\n",
       "\n",
       "    // limit handleAddOutput to display_data with EXEC_MIME_TYPE content only\n",
       "    if ((output.output_type != \"display_data\") || (!output.data.hasOwnProperty(EXEC_MIME_TYPE))) {\n",
       "      return\n",
       "    }\n",
       "\n",
       "    var toinsert = output_area.element.find(\".\" + CLASS_NAME.split(' ')[0]);\n",
       "\n",
       "    if (output.metadata[EXEC_MIME_TYPE][\"id\"] !== undefined) {\n",
       "      toinsert[toinsert.length - 1].firstChild.textContent = output.data[JS_MIME_TYPE];\n",
       "      // store reference to embed id on output_area\n",
       "      output_area._bokeh_element_id = output.metadata[EXEC_MIME_TYPE][\"id\"];\n",
       "    }\n",
       "    if (output.metadata[EXEC_MIME_TYPE][\"server_id\"] !== undefined) {\n",
       "      var bk_div = document.createElement(\"div\");\n",
       "      bk_div.innerHTML = output.data[HTML_MIME_TYPE];\n",
       "      var script_attrs = bk_div.children[0].attributes;\n",
       "      for (var i = 0; i < script_attrs.length; i++) {\n",
       "        toinsert[toinsert.length - 1].firstChild.setAttribute(script_attrs[i].name, script_attrs[i].value);\n",
       "        toinsert[toinsert.length - 1].firstChild.textContent = bk_div.children[0].textContent\n",
       "      }\n",
       "      // store reference to server id on output_area\n",
       "      output_area._bokeh_server_id = output.metadata[EXEC_MIME_TYPE][\"server_id\"];\n",
       "    }\n",
       "  }\n",
       "\n",
       "  function register_renderer(events, OutputArea) {\n",
       "\n",
       "    function append_mime(data, metadata, element) {\n",
       "      // create a DOM node to render to\n",
       "      var toinsert = this.create_output_subarea(\n",
       "        metadata,\n",
       "        CLASS_NAME,\n",
       "        EXEC_MIME_TYPE\n",
       "      );\n",
       "      this.keyboard_manager.register_events(toinsert);\n",
       "      // Render to node\n",
       "      var props = {data: data, metadata: metadata[EXEC_MIME_TYPE]};\n",
       "      render(props, toinsert[toinsert.length - 1]);\n",
       "      element.append(toinsert);\n",
       "      return toinsert\n",
       "    }\n",
       "\n",
       "    /* Handle when an output is cleared or removed */\n",
       "    events.on('clear_output.CodeCell', handleClearOutput);\n",
       "    events.on('delete.Cell', handleClearOutput);\n",
       "\n",
       "    /* Handle when a new output is added */\n",
       "    events.on('output_added.OutputArea', handleAddOutput);\n",
       "\n",
       "    /**\n",
       "     * Register the mime type and append_mime function with output_area\n",
       "     */\n",
       "    OutputArea.prototype.register_mime_type(EXEC_MIME_TYPE, append_mime, {\n",
       "      /* Is output safe? */\n",
       "      safe: true,\n",
       "      /* Index of renderer in `output_area.display_order` */\n",
       "      index: 0\n",
       "    });\n",
       "  }\n",
       "\n",
       "  // register the mime type if in Jupyter Notebook environment and previously unregistered\n",
       "  if (root.Jupyter !== undefined) {\n",
       "    var events = require('base/js/events');\n",
       "    var OutputArea = require('notebook/js/outputarea').OutputArea;\n",
       "\n",
       "    if (OutputArea.prototype.mime_types().indexOf(EXEC_MIME_TYPE) == -1) {\n",
       "      register_renderer(events, OutputArea);\n",
       "    }\n",
       "  }\n",
       "\n",
       "  \n",
       "  if (typeof (root._bokeh_timeout) === \"undefined\" || force === true) {\n",
       "    root._bokeh_timeout = Date.now() + 5000;\n",
       "    root._bokeh_failed_load = false;\n",
       "  }\n",
       "\n",
       "  var NB_LOAD_WARNING = {'data': {'text/html':\n",
       "     \"<div style='background-color: #fdd'>\\n\"+\n",
       "     \"<p>\\n\"+\n",
       "     \"BokehJS does not appear to have successfully loaded. If loading BokehJS from CDN, this \\n\"+\n",
       "     \"may be due to a slow or bad network connection. Possible fixes:\\n\"+\n",
       "     \"</p>\\n\"+\n",
       "     \"<ul>\\n\"+\n",
       "     \"<li>re-rerun `output_notebook()` to attempt to load from CDN again, or</li>\\n\"+\n",
       "     \"<li>use INLINE resources instead, as so:</li>\\n\"+\n",
       "     \"</ul>\\n\"+\n",
       "     \"<code>\\n\"+\n",
       "     \"from bokeh.resources import INLINE\\n\"+\n",
       "     \"output_notebook(resources=INLINE)\\n\"+\n",
       "     \"</code>\\n\"+\n",
       "     \"</div>\"}};\n",
       "\n",
       "  function display_loaded() {\n",
       "    var el = document.getElementById(null);\n",
       "    if (el != null) {\n",
       "      el.textContent = \"BokehJS is loading...\";\n",
       "    }\n",
       "    if (root.Bokeh !== undefined) {\n",
       "      if (el != null) {\n",
       "        el.textContent = \"BokehJS \" + root.Bokeh.version + \" successfully loaded.\";\n",
       "      }\n",
       "    } else if (Date.now() < root._bokeh_timeout) {\n",
       "      setTimeout(display_loaded, 100)\n",
       "    }\n",
       "  }\n",
       "\n",
       "\n",
       "  function run_callbacks() {\n",
       "    try {\n",
       "      root._bokeh_onload_callbacks.forEach(function(callback) {\n",
       "        if (callback != null)\n",
       "          callback();\n",
       "      });\n",
       "    } finally {\n",
       "      delete root._bokeh_onload_callbacks\n",
       "    }\n",
       "    console.debug(\"Bokeh: all callbacks have finished\");\n",
       "  }\n",
       "\n",
       "  function load_libs(css_urls, js_urls, callback) {\n",
       "    if (css_urls == null) css_urls = [];\n",
       "    if (js_urls == null) js_urls = [];\n",
       "\n",
       "    root._bokeh_onload_callbacks.push(callback);\n",
       "    if (root._bokeh_is_loading > 0) {\n",
       "      console.debug(\"Bokeh: BokehJS is being loaded, scheduling callback at\", now());\n",
       "      return null;\n",
       "    }\n",
       "    if (js_urls == null || js_urls.length === 0) {\n",
       "      run_callbacks();\n",
       "      return null;\n",
       "    }\n",
       "    console.debug(\"Bokeh: BokehJS not loaded, scheduling load and callback at\", now());\n",
       "    root._bokeh_is_loading = css_urls.length + js_urls.length;\n",
       "\n",
       "    function on_load() {\n",
       "      root._bokeh_is_loading--;\n",
       "      if (root._bokeh_is_loading === 0) {\n",
       "        console.debug(\"Bokeh: all BokehJS libraries/stylesheets loaded\");\n",
       "        run_callbacks()\n",
       "      }\n",
       "    }\n",
       "\n",
       "    function on_error() {\n",
       "      console.error(\"failed to load \" + url);\n",
       "    }\n",
       "\n",
       "    for (var i = 0; i < css_urls.length; i++) {\n",
       "      var url = css_urls[i];\n",
       "      const element = document.createElement(\"link\");\n",
       "      element.onload = on_load;\n",
       "      element.onerror = on_error;\n",
       "      element.rel = \"stylesheet\";\n",
       "      element.type = \"text/css\";\n",
       "      element.href = url;\n",
       "      console.debug(\"Bokeh: injecting link tag for BokehJS stylesheet: \", url);\n",
       "      document.body.appendChild(element);\n",
       "    }\n",
       "\n",
       "    const hashes = {\"https://cdn.bokeh.org/bokeh/release/bokeh-2.1.1.min.js\": \"kLr4fYcqcSpbuI95brIH3vnnYCquzzSxHPU6XGQCIkQRGJwhg0StNbj1eegrHs12\", \"https://cdn.bokeh.org/bokeh/release/bokeh-widgets-2.1.1.min.js\": \"xIGPmVtaOm+z0BqfSOMn4lOR6ciex448GIKG4eE61LsAvmGj48XcMQZtKcE/UXZe\", \"https://cdn.bokeh.org/bokeh/release/bokeh-tables-2.1.1.min.js\": \"Dc9u1wF/0zApGIWoBbH77iWEHtdmkuYWG839Uzmv8y8yBLXebjO9ZnERsde5Ln/P\", \"https://cdn.bokeh.org/bokeh/release/bokeh-gl-2.1.1.min.js\": \"cT9JaBz7GiRXdENrJLZNSC6eMNF3nh3fa5fTF51Svp+ukxPdwcU5kGXGPBgDCa2j\"};\n",
       "\n",
       "    for (var i = 0; i < js_urls.length; i++) {\n",
       "      var url = js_urls[i];\n",
       "      var element = document.createElement('script');\n",
       "      element.onload = on_load;\n",
       "      element.onerror = on_error;\n",
       "      element.async = false;\n",
       "      element.src = url;\n",
       "      if (url in hashes) {\n",
       "        element.crossOrigin = \"anonymous\";\n",
       "        element.integrity = \"sha384-\" + hashes[url];\n",
       "      }\n",
       "      console.debug(\"Bokeh: injecting script tag for BokehJS library: \", url);\n",
       "      document.head.appendChild(element);\n",
       "    }\n",
       "  };\n",
       "\n",
       "  function inject_raw_css(css) {\n",
       "    const element = document.createElement(\"style\");\n",
       "    element.appendChild(document.createTextNode(css));\n",
       "    document.body.appendChild(element);\n",
       "  }\n",
       "\n",
       "  \n",
       "  var js_urls = [\"https://cdn.bokeh.org/bokeh/release/bokeh-2.1.1.min.js\", \"https://cdn.bokeh.org/bokeh/release/bokeh-widgets-2.1.1.min.js\", \"https://cdn.bokeh.org/bokeh/release/bokeh-tables-2.1.1.min.js\", \"https://cdn.bokeh.org/bokeh/release/bokeh-gl-2.1.1.min.js\"];\n",
       "  var css_urls = [];\n",
       "  \n",
       "\n",
       "  var inline_js = [\n",
       "    function(Bokeh) {\n",
       "      Bokeh.set_log_level(\"info\");\n",
       "    },\n",
       "    function(Bokeh) {\n",
       "    \n",
       "    \n",
       "    }\n",
       "  ];\n",
       "\n",
       "  function run_inline_js() {\n",
       "    \n",
       "    if (root.Bokeh !== undefined || force === true) {\n",
       "      \n",
       "    for (var i = 0; i < inline_js.length; i++) {\n",
       "      inline_js[i].call(root, root.Bokeh);\n",
       "    }\n",
       "    } else if (Date.now() < root._bokeh_timeout) {\n",
       "      setTimeout(run_inline_js, 100);\n",
       "    } else if (!root._bokeh_failed_load) {\n",
       "      console.log(\"Bokeh: BokehJS failed to load within specified timeout.\");\n",
       "      root._bokeh_failed_load = true;\n",
       "    } else if (force !== true) {\n",
       "      var cell = $(document.getElementById(null)).parents('.cell').data().cell;\n",
       "      cell.output_area.append_execute_result(NB_LOAD_WARNING)\n",
       "    }\n",
       "\n",
       "  }\n",
       "\n",
       "  if (root._bokeh_is_loading === 0) {\n",
       "    console.debug(\"Bokeh: BokehJS loaded, going straight to plotting\");\n",
       "    run_inline_js();\n",
       "  } else {\n",
       "    load_libs(css_urls, js_urls, function() {\n",
       "      console.debug(\"Bokeh: BokehJS plotting callback run at\", now());\n",
       "      run_inline_js();\n",
       "    });\n",
       "  }\n",
       "}(window));"
      ],
      "application/vnd.bokehjs_load.v0+json": "\n(function(root) {\n  function now() {\n    return new Date();\n  }\n\n  var force = true;\n\n  if (typeof root._bokeh_onload_callbacks === \"undefined\" || force === true) {\n    root._bokeh_onload_callbacks = [];\n    root._bokeh_is_loading = undefined;\n  }\n\n  \n\n  \n  if (typeof (root._bokeh_timeout) === \"undefined\" || force === true) {\n    root._bokeh_timeout = Date.now() + 5000;\n    root._bokeh_failed_load = false;\n  }\n\n  var NB_LOAD_WARNING = {'data': {'text/html':\n     \"<div style='background-color: #fdd'>\\n\"+\n     \"<p>\\n\"+\n     \"BokehJS does not appear to have successfully loaded. If loading BokehJS from CDN, this \\n\"+\n     \"may be due to a slow or bad network connection. Possible fixes:\\n\"+\n     \"</p>\\n\"+\n     \"<ul>\\n\"+\n     \"<li>re-rerun `output_notebook()` to attempt to load from CDN again, or</li>\\n\"+\n     \"<li>use INLINE resources instead, as so:</li>\\n\"+\n     \"</ul>\\n\"+\n     \"<code>\\n\"+\n     \"from bokeh.resources import INLINE\\n\"+\n     \"output_notebook(resources=INLINE)\\n\"+\n     \"</code>\\n\"+\n     \"</div>\"}};\n\n  function display_loaded() {\n    var el = document.getElementById(null);\n    if (el != null) {\n      el.textContent = \"BokehJS is loading...\";\n    }\n    if (root.Bokeh !== undefined) {\n      if (el != null) {\n        el.textContent = \"BokehJS \" + root.Bokeh.version + \" successfully loaded.\";\n      }\n    } else if (Date.now() < root._bokeh_timeout) {\n      setTimeout(display_loaded, 100)\n    }\n  }\n\n\n  function run_callbacks() {\n    try {\n      root._bokeh_onload_callbacks.forEach(function(callback) {\n        if (callback != null)\n          callback();\n      });\n    } finally {\n      delete root._bokeh_onload_callbacks\n    }\n    console.debug(\"Bokeh: all callbacks have finished\");\n  }\n\n  function load_libs(css_urls, js_urls, callback) {\n    if (css_urls == null) css_urls = [];\n    if (js_urls == null) js_urls = [];\n\n    root._bokeh_onload_callbacks.push(callback);\n    if (root._bokeh_is_loading > 0) {\n      console.debug(\"Bokeh: BokehJS is being loaded, scheduling callback at\", now());\n      return null;\n    }\n    if (js_urls == null || js_urls.length === 0) {\n      run_callbacks();\n      return null;\n    }\n    console.debug(\"Bokeh: BokehJS not loaded, scheduling load and callback at\", now());\n    root._bokeh_is_loading = css_urls.length + js_urls.length;\n\n    function on_load() {\n      root._bokeh_is_loading--;\n      if (root._bokeh_is_loading === 0) {\n        console.debug(\"Bokeh: all BokehJS libraries/stylesheets loaded\");\n        run_callbacks()\n      }\n    }\n\n    function on_error() {\n      console.error(\"failed to load \" + url);\n    }\n\n    for (var i = 0; i < css_urls.length; i++) {\n      var url = css_urls[i];\n      const element = document.createElement(\"link\");\n      element.onload = on_load;\n      element.onerror = on_error;\n      element.rel = \"stylesheet\";\n      element.type = \"text/css\";\n      element.href = url;\n      console.debug(\"Bokeh: injecting link tag for BokehJS stylesheet: \", url);\n      document.body.appendChild(element);\n    }\n\n    const hashes = {\"https://cdn.bokeh.org/bokeh/release/bokeh-2.1.1.min.js\": \"kLr4fYcqcSpbuI95brIH3vnnYCquzzSxHPU6XGQCIkQRGJwhg0StNbj1eegrHs12\", \"https://cdn.bokeh.org/bokeh/release/bokeh-widgets-2.1.1.min.js\": \"xIGPmVtaOm+z0BqfSOMn4lOR6ciex448GIKG4eE61LsAvmGj48XcMQZtKcE/UXZe\", \"https://cdn.bokeh.org/bokeh/release/bokeh-tables-2.1.1.min.js\": \"Dc9u1wF/0zApGIWoBbH77iWEHtdmkuYWG839Uzmv8y8yBLXebjO9ZnERsde5Ln/P\", \"https://cdn.bokeh.org/bokeh/release/bokeh-gl-2.1.1.min.js\": \"cT9JaBz7GiRXdENrJLZNSC6eMNF3nh3fa5fTF51Svp+ukxPdwcU5kGXGPBgDCa2j\"};\n\n    for (var i = 0; i < js_urls.length; i++) {\n      var url = js_urls[i];\n      var element = document.createElement('script');\n      element.onload = on_load;\n      element.onerror = on_error;\n      element.async = false;\n      element.src = url;\n      if (url in hashes) {\n        element.crossOrigin = \"anonymous\";\n        element.integrity = \"sha384-\" + hashes[url];\n      }\n      console.debug(\"Bokeh: injecting script tag for BokehJS library: \", url);\n      document.head.appendChild(element);\n    }\n  };\n\n  function inject_raw_css(css) {\n    const element = document.createElement(\"style\");\n    element.appendChild(document.createTextNode(css));\n    document.body.appendChild(element);\n  }\n\n  \n  var js_urls = [\"https://cdn.bokeh.org/bokeh/release/bokeh-2.1.1.min.js\", \"https://cdn.bokeh.org/bokeh/release/bokeh-widgets-2.1.1.min.js\", \"https://cdn.bokeh.org/bokeh/release/bokeh-tables-2.1.1.min.js\", \"https://cdn.bokeh.org/bokeh/release/bokeh-gl-2.1.1.min.js\"];\n  var css_urls = [];\n  \n\n  var inline_js = [\n    function(Bokeh) {\n      Bokeh.set_log_level(\"info\");\n    },\n    function(Bokeh) {\n    \n    \n    }\n  ];\n\n  function run_inline_js() {\n    \n    if (root.Bokeh !== undefined || force === true) {\n      \n    for (var i = 0; i < inline_js.length; i++) {\n      inline_js[i].call(root, root.Bokeh);\n    }\n    } else if (Date.now() < root._bokeh_timeout) {\n      setTimeout(run_inline_js, 100);\n    } else if (!root._bokeh_failed_load) {\n      console.log(\"Bokeh: BokehJS failed to load within specified timeout.\");\n      root._bokeh_failed_load = true;\n    } else if (force !== true) {\n      var cell = $(document.getElementById(null)).parents('.cell').data().cell;\n      cell.output_area.append_execute_result(NB_LOAD_WARNING)\n    }\n\n  }\n\n  if (root._bokeh_is_loading === 0) {\n    console.debug(\"Bokeh: BokehJS loaded, going straight to plotting\");\n    run_inline_js();\n  } else {\n    load_libs(css_urls, js_urls, function() {\n      console.debug(\"Bokeh: BokehJS plotting callback run at\", now());\n      run_inline_js();\n    });\n  }\n}(window));"
     },
     "metadata": {},
     "output_type": "display_data"
    },
    {
     "data": {
      "text/html": [
       "\n",
       "\n",
       "\n",
       "\n",
       "\n",
       "\n",
       "  <div class=\"bk-root\" id=\"14267558-2d01-4fac-a8b0-643976345501\" data-root-id=\"1117\"></div>\n"
      ]
     },
     "metadata": {},
     "output_type": "display_data"
    },
    {
     "data": {
      "application/javascript": [
       "(function(root) {\n",
       "  function embed_document(root) {\n",
       "    \n",
       "  var docs_json = {\"1d1921b0-7d76-45ae-8b47-900d7fab2ad0\":{\"roots\":{\"references\":[{\"attributes\":{\"children\":[{\"id\":\"1116\"},{\"id\":\"1114\"}]},\"id\":\"1117\",\"type\":\"Column\"},{\"attributes\":{\"axis_label\":\"Variant type\",\"formatter\":{\"id\":\"1092\"},\"ticker\":{\"id\":\"1013\"}},\"id\":\"1012\",\"type\":\"CategoricalAxis\"},{\"attributes\":{\"data_source\":{\"id\":\"1070\"},\"glyph\":{\"id\":\"1071\"},\"hover_glyph\":null,\"muted_glyph\":null,\"nonselection_glyph\":{\"id\":\"1072\"},\"selection_glyph\":null,\"view\":{\"id\":\"1074\"}},\"id\":\"1073\",\"type\":\"GlyphRenderer\"},{\"attributes\":{\"toolbars\":[{\"id\":\"1026\"},{\"id\":\"1063\"}],\"tools\":[{\"id\":\"1019\"},{\"id\":\"1020\"},{\"id\":\"1021\"},{\"id\":\"1022\"},{\"id\":\"1023\"},{\"id\":\"1024\"},{\"id\":\"1056\"},{\"id\":\"1057\"},{\"id\":\"1058\"},{\"id\":\"1059\"},{\"id\":\"1060\"},{\"id\":\"1061\"}]},\"id\":\"1115\",\"type\":\"ProxyToolbar\"},{\"attributes\":{},\"id\":\"1057\",\"type\":\"WheelZoomTool\"},{\"attributes\":{\"bounds\":[0,100],\"end\":100},\"id\":\"1039\",\"type\":\"Range1d\"},{\"attributes\":{\"source\":{\"id\":\"1033\"}},\"id\":\"1037\",\"type\":\"CDSView\"},{\"attributes\":{},\"id\":\"1106\",\"type\":\"Selection\"},{\"attributes\":{},\"id\":\"1097\",\"type\":\"Selection\"},{\"attributes\":{\"toolbar\":{\"id\":\"1115\"},\"toolbar_location\":\"above\"},\"id\":\"1116\",\"type\":\"ToolbarBox\"},{\"attributes\":{\"overlay\":{\"id\":\"1062\"}},\"id\":\"1058\",\"type\":\"BoxZoomTool\"},{\"attributes\":{},\"id\":\"1019\",\"type\":\"PanTool\"},{\"attributes\":{},\"id\":\"1010\",\"type\":\"LinearScale\"},{\"attributes\":{\"factors\":[\"ins\",\"sub\",\"del\"]},\"id\":\"1038\",\"type\":\"FactorRange\"},{\"attributes\":{},\"id\":\"1092\",\"type\":\"CategoricalTickFormatter\"},{\"attributes\":{\"source\":{\"id\":\"1070\"}},\"id\":\"1074\",\"type\":\"CDSView\"},{\"attributes\":{},\"id\":\"1059\",\"type\":\"SaveTool\"},{\"attributes\":{},\"id\":\"1020\",\"type\":\"WheelZoomTool\"},{\"attributes\":{},\"id\":\"1008\",\"type\":\"CategoricalScale\"},{\"attributes\":{\"data\":{\"x0\":[\"del\",\"ins\",\"sub\"],\"x1\":[\"del\",\"ins\",\"sub\"],\"y0\":{\"__ndarray__\":\"ULgeheubPMA730+Nl3hHwIKVQ4tsmkXA\",\"dtype\":\"float64\",\"order\":\"little\",\"shape\":[3]},\"y1\":{\"__ndarray__\":\"TDeJQWClDEAEVg4tsk0gQBODwMqhZRxA\",\"dtype\":\"float64\",\"order\":\"little\",\"shape\":[3]}},\"selected\":{\"id\":\"1108\"},\"selection_policy\":{\"id\":\"1107\"}},\"id\":\"1075\",\"type\":\"ColumnDataSource\"},{\"attributes\":{},\"id\":\"1101\",\"type\":\"CategoricalTickFormatter\"},{\"attributes\":{},\"id\":\"1103\",\"type\":\"BasicTickFormatter\"},{\"attributes\":{},\"id\":\"1060\",\"type\":\"ResetTool\"},{\"attributes\":{},\"id\":\"1107\",\"type\":\"UnionRenderers\"},{\"attributes\":{\"overlay\":{\"id\":\"1025\"}},\"id\":\"1021\",\"type\":\"BoxZoomTool\"},{\"attributes\":{},\"id\":\"1061\",\"type\":\"HelpTool\"},{\"attributes\":{},\"id\":\"1022\",\"type\":\"SaveTool\"},{\"attributes\":{\"text\":\"Variant quality by type\"},\"id\":\"1041\",\"type\":\"Title\"},{\"attributes\":{\"data\":{\"bottom\":{\"__ndarray__\":\"d76fGi8dF0CWQ4ts5wszQLTIdr6fyjpA\",\"dtype\":\"float64\",\"order\":\"little\",\"shape\":[3]},\"top\":{\"__ndarray__\":\"TDeJQWClDEAEVg4tsk0gQBODwMqhZRxA\",\"dtype\":\"float64\",\"order\":\"little\",\"shape\":[3]},\"x\":[\"del\",\"ins\",\"sub\"]},\"selected\":{\"id\":\"1112\"},\"selection_policy\":{\"id\":\"1111\"}},\"id\":\"1085\",\"type\":\"ColumnDataSource\"},{\"attributes\":{},\"id\":\"1109\",\"type\":\"UnionRenderers\"},{\"attributes\":{},\"id\":\"1023\",\"type\":\"ResetTool\"},{\"attributes\":{\"line_alpha\":{\"value\":0.1},\"x0\":{\"field\":\"x0\"},\"x1\":{\"field\":\"x1\"},\"y0\":{\"field\":\"y0\"},\"y1\":{\"field\":\"y1\"}},\"id\":\"1077\",\"type\":\"Segment\"},{\"attributes\":{\"active_drag\":\"auto\",\"active_inspect\":\"auto\",\"active_multi\":null,\"active_scroll\":\"auto\",\"active_tap\":\"auto\",\"tools\":[{\"id\":\"1056\"},{\"id\":\"1057\"},{\"id\":\"1058\"},{\"id\":\"1059\"},{\"id\":\"1060\"},{\"id\":\"1061\"}]},\"id\":\"1063\",\"type\":\"Toolbar\"},{\"attributes\":{\"x0\":{\"field\":\"x0\"},\"x1\":{\"field\":\"x1\"},\"y0\":{\"field\":\"y0\"},\"y1\":{\"field\":\"y1\"}},\"id\":\"1076\",\"type\":\"Segment\"},{\"attributes\":{},\"id\":\"1024\",\"type\":\"HelpTool\"},{\"attributes\":{\"start\":0},\"id\":\"1006\",\"type\":\"DataRange1d\"},{\"attributes\":{},\"id\":\"1045\",\"type\":\"CategoricalScale\"},{\"attributes\":{\"bottom\":{\"field\":\"bottom\"},\"fill_alpha\":{\"value\":0.1},\"fill_color\":{\"value\":\"#1f77b4\"},\"line_alpha\":{\"value\":0.1},\"top\":{\"field\":\"top\"},\"width\":{\"value\":0.8},\"x\":{\"field\":\"x\"}},\"id\":\"1082\",\"type\":\"VBar\"},{\"attributes\":{},\"id\":\"1110\",\"type\":\"Selection\"},{\"attributes\":{},\"id\":\"1105\",\"type\":\"UnionRenderers\"},{\"attributes\":{\"text\":\"Counts of variant types\"},\"id\":\"1002\",\"type\":\"Title\"},{\"attributes\":{},\"id\":\"1047\",\"type\":\"LinearScale\"},{\"attributes\":{\"source\":{\"id\":\"1075\"}},\"id\":\"1079\",\"type\":\"CDSView\"},{\"attributes\":{\"below\":[{\"id\":\"1012\"}],\"center\":[{\"id\":\"1014\"},{\"id\":\"1018\"}],\"left\":[{\"id\":\"1015\"}],\"output_backend\":\"webgl\",\"plot_height\":300,\"renderers\":[{\"id\":\"1036\"}],\"title\":{\"id\":\"1002\"},\"toolbar\":{\"id\":\"1026\"},\"toolbar_location\":null,\"x_range\":{\"id\":\"1004\"},\"x_scale\":{\"id\":\"1008\"},\"y_range\":{\"id\":\"1006\"},\"y_scale\":{\"id\":\"1010\"}},\"id\":\"1001\",\"subtype\":\"Figure\",\"type\":\"Plot\"},{\"attributes\":{\"data\":{\"bottom\":{\"__ndarray__\":\"ZmZmZmYKOUBU46WbxHBGQPp+arx0UURA\",\"dtype\":\"float64\",\"order\":\"little\",\"shape\":[3]},\"top\":{\"__ndarray__\":\"d76fGi8dF0CWQ4ts5wszQLTIdr6fyjpA\",\"dtype\":\"float64\",\"order\":\"little\",\"shape\":[3]},\"x\":[\"del\",\"ins\",\"sub\"]},\"selected\":{\"id\":\"1110\"},\"selection_policy\":{\"id\":\"1109\"}},\"id\":\"1080\",\"type\":\"ColumnDataSource\"},{\"attributes\":{},\"id\":\"1108\",\"type\":\"Selection\"},{\"attributes\":{\"data_source\":{\"id\":\"1033\"},\"glyph\":{\"id\":\"1034\"},\"hover_glyph\":null,\"muted_glyph\":null,\"nonselection_glyph\":{\"id\":\"1035\"},\"selection_glyph\":null,\"view\":{\"id\":\"1037\"}},\"id\":\"1036\",\"type\":\"GlyphRenderer\"},{\"attributes\":{\"axis_label\":\"Variant type\",\"formatter\":{\"id\":\"1101\"},\"ticker\":{\"id\":\"1050\"}},\"id\":\"1049\",\"type\":\"CategoricalAxis\"},{\"attributes\":{\"fill_alpha\":{\"value\":0.1},\"fill_color\":{\"value\":\"#1f77b4\"},\"line_alpha\":{\"value\":0.1},\"line_color\":{\"value\":\"#1f77b4\"},\"top\":{\"field\":\"top\"},\"width\":{\"value\":0.9},\"x\":{\"field\":\"x\"}},\"id\":\"1035\",\"type\":\"VBar\"},{\"attributes\":{\"data_source\":{\"id\":\"1080\"},\"glyph\":{\"id\":\"1081\"},\"hover_glyph\":null,\"muted_glyph\":null,\"nonselection_glyph\":{\"id\":\"1082\"},\"selection_glyph\":null,\"view\":{\"id\":\"1084\"}},\"id\":\"1083\",\"type\":\"GlyphRenderer\"},{\"attributes\":{\"bottom\":{\"field\":\"bottom\"},\"fill_color\":{\"value\":\"#1f77b4\"},\"top\":{\"field\":\"top\"},\"width\":{\"value\":0.8},\"x\":{\"field\":\"x\"}},\"id\":\"1081\",\"type\":\"VBar\"},{\"attributes\":{},\"id\":\"1050\",\"type\":\"CategoricalTicker\"},{\"attributes\":{},\"id\":\"1112\",\"type\":\"Selection\"},{\"attributes\":{\"x0\":{\"field\":\"x0\"},\"x1\":{\"field\":\"x1\"},\"y0\":{\"field\":\"y0\"},\"y1\":{\"field\":\"y1\"}},\"id\":\"1071\",\"type\":\"Segment\"},{\"attributes\":{\"axis\":{\"id\":\"1049\"},\"ticker\":null},\"id\":\"1051\",\"type\":\"Grid\"},{\"attributes\":{\"source\":{\"id\":\"1080\"}},\"id\":\"1084\",\"type\":\"CDSView\"},{\"attributes\":{\"fill_color\":{\"value\":\"#1f77b4\"},\"line_color\":{\"value\":\"#1f77b4\"},\"top\":{\"field\":\"top\"},\"width\":{\"value\":0.9},\"x\":{\"field\":\"x\"}},\"id\":\"1034\",\"type\":\"VBar\"},{\"attributes\":{\"axis_label\":\"QUAL\",\"formatter\":{\"id\":\"1103\"},\"ticker\":{\"id\":\"1053\"}},\"id\":\"1052\",\"type\":\"LinearAxis\"},{\"attributes\":{\"below\":[{\"id\":\"1049\"}],\"center\":[{\"id\":\"1051\"},{\"id\":\"1055\"}],\"left\":[{\"id\":\"1052\"}],\"output_backend\":\"webgl\",\"plot_height\":300,\"renderers\":[{\"id\":\"1073\"},{\"id\":\"1078\"},{\"id\":\"1083\"},{\"id\":\"1088\"}],\"title\":{\"id\":\"1041\"},\"toolbar\":{\"id\":\"1063\"},\"toolbar_location\":null,\"x_range\":{\"id\":\"1038\"},\"x_scale\":{\"id\":\"1045\"},\"y_range\":{\"id\":\"1039\"},\"y_scale\":{\"id\":\"1047\"}},\"id\":\"1040\",\"subtype\":\"Figure\",\"type\":\"Plot\"},{\"attributes\":{},\"id\":\"1111\",\"type\":\"UnionRenderers\"},{\"attributes\":{\"bottom\":{\"field\":\"bottom\"},\"fill_color\":{\"value\":\"#1f77b4\"},\"top\":{\"field\":\"top\"},\"width\":{\"value\":0.8},\"x\":{\"field\":\"x\"}},\"id\":\"1086\",\"type\":\"VBar\"},{\"attributes\":{},\"id\":\"1053\",\"type\":\"BasicTicker\"},{\"attributes\":{\"bottom\":{\"field\":\"bottom\"},\"fill_alpha\":{\"value\":0.1},\"fill_color\":{\"value\":\"#1f77b4\"},\"line_alpha\":{\"value\":0.1},\"top\":{\"field\":\"top\"},\"width\":{\"value\":0.8},\"x\":{\"field\":\"x\"}},\"id\":\"1087\",\"type\":\"VBar\"},{\"attributes\":{\"axis\":{\"id\":\"1015\"},\"dimension\":1,\"ticker\":null},\"id\":\"1018\",\"type\":\"Grid\"},{\"attributes\":{\"data_source\":{\"id\":\"1075\"},\"glyph\":{\"id\":\"1076\"},\"hover_glyph\":null,\"muted_glyph\":null,\"nonselection_glyph\":{\"id\":\"1077\"},\"selection_glyph\":null,\"view\":{\"id\":\"1079\"}},\"id\":\"1078\",\"type\":\"GlyphRenderer\"},{\"attributes\":{\"axis\":{\"id\":\"1052\"},\"dimension\":1,\"ticker\":null},\"id\":\"1055\",\"type\":\"Grid\"},{\"attributes\":{\"data\":{\"top\":[108,850,42],\"x\":[\"ins\",\"sub\",\"del\"]},\"selected\":{\"id\":\"1097\"},\"selection_policy\":{\"id\":\"1096\"}},\"id\":\"1033\",\"type\":\"ColumnDataSource\"},{\"attributes\":{\"data_source\":{\"id\":\"1085\"},\"glyph\":{\"id\":\"1086\"},\"hover_glyph\":null,\"muted_glyph\":null,\"nonselection_glyph\":{\"id\":\"1087\"},\"selection_glyph\":null,\"view\":{\"id\":\"1089\"}},\"id\":\"1088\",\"type\":\"GlyphRenderer\"},{\"attributes\":{\"active_drag\":\"auto\",\"active_inspect\":\"auto\",\"active_multi\":null,\"active_scroll\":\"auto\",\"active_tap\":\"auto\",\"tools\":[{\"id\":\"1019\"},{\"id\":\"1020\"},{\"id\":\"1021\"},{\"id\":\"1022\"},{\"id\":\"1023\"},{\"id\":\"1024\"}]},\"id\":\"1026\",\"type\":\"Toolbar\"},{\"attributes\":{},\"id\":\"1016\",\"type\":\"BasicTicker\"},{\"attributes\":{\"bottom_units\":\"screen\",\"fill_alpha\":0.5,\"fill_color\":\"lightgrey\",\"left_units\":\"screen\",\"level\":\"overlay\",\"line_alpha\":1.0,\"line_color\":\"black\",\"line_dash\":[4,4],\"line_width\":2,\"right_units\":\"screen\",\"top_units\":\"screen\"},\"id\":\"1025\",\"type\":\"BoxAnnotation\"},{\"attributes\":{\"bottom_units\":\"screen\",\"fill_alpha\":0.5,\"fill_color\":\"lightgrey\",\"left_units\":\"screen\",\"level\":\"overlay\",\"line_alpha\":1.0,\"line_color\":\"black\",\"line_dash\":[4,4],\"line_width\":2,\"right_units\":\"screen\",\"top_units\":\"screen\"},\"id\":\"1062\",\"type\":\"BoxAnnotation\"},{\"attributes\":{},\"id\":\"1094\",\"type\":\"BasicTickFormatter\"},{\"attributes\":{\"data\":{\"x0\":[\"del\",\"ins\",\"sub\"],\"x1\":[\"del\",\"ins\",\"sub\"],\"y0\":{\"__ndarray__\":\"0CLb+X6dTEAIrBxaZP5YQG8Sg8BKvFZA\",\"dtype\":\"float64\",\"order\":\"little\",\"shape\":[3]},\"y1\":{\"__ndarray__\":\"ZmZmZmYKOUBU46WbxHBGQPp+arx0UURA\",\"dtype\":\"float64\",\"order\":\"little\",\"shape\":[3]}},\"selected\":{\"id\":\"1106\"},\"selection_policy\":{\"id\":\"1105\"}},\"id\":\"1070\",\"type\":\"ColumnDataSource\"},{\"attributes\":{\"axis_label\":\"Count\",\"formatter\":{\"id\":\"1094\"},\"ticker\":{\"id\":\"1016\"}},\"id\":\"1015\",\"type\":\"LinearAxis\"},{\"attributes\":{\"source\":{\"id\":\"1085\"}},\"id\":\"1089\",\"type\":\"CDSView\"},{\"attributes\":{},\"id\":\"1096\",\"type\":\"UnionRenderers\"},{\"attributes\":{\"axis\":{\"id\":\"1012\"},\"grid_line_color\":null,\"ticker\":null},\"id\":\"1014\",\"type\":\"Grid\"},{\"attributes\":{\"line_alpha\":{\"value\":0.1},\"x0\":{\"field\":\"x0\"},\"x1\":{\"field\":\"x1\"},\"y0\":{\"field\":\"y0\"},\"y1\":{\"field\":\"y1\"}},\"id\":\"1072\",\"type\":\"Segment\"},{\"attributes\":{\"children\":[[{\"id\":\"1001\"},0,0],[{\"id\":\"1040\"},0,1]]},\"id\":\"1114\",\"type\":\"GridBox\"},{\"attributes\":{},\"id\":\"1056\",\"type\":\"PanTool\"},{\"attributes\":{},\"id\":\"1013\",\"type\":\"CategoricalTicker\"},{\"attributes\":{\"factors\":[\"ins\",\"sub\",\"del\"]},\"id\":\"1004\",\"type\":\"FactorRange\"}],\"root_ids\":[\"1117\"]},\"title\":\"Bokeh Application\",\"version\":\"2.1.1\"}};\n",
       "  var render_items = [{\"docid\":\"1d1921b0-7d76-45ae-8b47-900d7fab2ad0\",\"root_ids\":[\"1117\"],\"roots\":{\"1117\":\"14267558-2d01-4fac-a8b0-643976345501\"}}];\n",
       "  root.Bokeh.embed.embed_items_notebook(docs_json, render_items);\n",
       "\n",
       "  }\n",
       "  if (root.Bokeh !== undefined) {\n",
       "    embed_document(root);\n",
       "  } else {\n",
       "    var attempts = 0;\n",
       "    var timer = setInterval(function(root) {\n",
       "      if (root.Bokeh !== undefined) {\n",
       "        clearInterval(timer);\n",
       "        embed_document(root);\n",
       "      } else {\n",
       "        attempts++;\n",
       "        if (attempts > 100) {\n",
       "          clearInterval(timer);\n",
       "          console.log(\"Bokeh: ERROR: Unable to run BokehJS code because BokehJS library is missing\");\n",
       "        }\n",
       "      }\n",
       "    }, 10, root)\n",
       "  }\n",
       "})(window);"
      ],
      "application/vnd.bokehjs_exec.v0+json": ""
     },
     "metadata": {
      "application/vnd.bokehjs_exec.v0+json": {
       "id": "1117"
      }
     },
     "output_type": "display_data"
    }
   ],
   "source": [
    "# **Parsing and plotting VCF data with pandas** *(click here to show code)*\n",
    "from bokeh.layouts import gridplot\n",
    "import aplanat\n",
    "from aplanat import bars\n",
    "\n",
    "# read the file using the function described above\n",
    "vcf = parse_vcf(input_file, info_cols={'DP':int}, nrows=1000)\n",
    "\n",
    "# hack: the indexing here just makes things the same order\n",
    "counts = vcf['type'].value_counts()[['ins', 'sub', 'del']]\n",
    "count_plot = bars.simple_bar(\n",
    "    counts.index.tolist(), counts,\n",
    "    x_axis_label='Variant type', y_axis_label='Count',\n",
    "    title='Counts of variant types')\n",
    "qual_plot = bars.boxplot_series(\n",
    "    vcf['type'], vcf['QUAL'],\n",
    "    x_axis_label='Variant type', y_axis_label='QUAL',\n",
    "    title='Variant quality by type',\n",
    "    ylim=(0,100))\n",
    "aplanat.show(gridplot([count_plot, qual_plot], ncols=2))\n"
   ]
  },
  {
   "cell_type": "markdown",
   "metadata": {
    "colab_type": "text",
    "id": "AHF92Tag3kKQ"
   },
   "source": [
    "### Using bcftools\n",
    "\n",
    "Above we have shown two Python-based methods for interacting with VCF files. The first of these is useful for inspecting each variant in turn, whereas the second is useful for generic programming and creating views across variants.\n",
    "\n",
    "Finally we will introduce [`bcftools`](http://www.htslib.org/doc/bcftools.html), a set of command-line tools for manipulating VCF files and their binary cousins: BCF files. Perhaps one of the most useful parts of `bcftools` with which to get started is the [`bcftools query`](http://www.htslib.org/doc/bcftools.html#query) command. The query command can be used to format a VCF in a user defined fashion, whilst performing filtering.\n",
    "\n",
    "To create a:\n",
    "* tab-separated output, `--format '....'`\n",
    "* of variants in the range `chr1:100000-120000`,\n",
    "* of a high quality, `QUAL>30`\n",
    "* with genotype `1|0`\n",
    "* which are not single-nucleotide polymorphisms (`TYPE!=\"snp\"`)\n",
    "\n",
    "we can run the following incantation:"
   ]
  },
  {
   "cell_type": "code",
   "execution_count": 16,
   "metadata": {
    "colab": {
     "base_uri": "https://localhost:8080/",
     "height": 72
    },
    "colab_type": "code",
    "id": "HNgFU5D24yg1",
    "outputId": "1cfb740a-0869-493d-90cb-1585f3a264d1"
   },
   "outputs": [
    {
     "name": "stdout",
     "output_type": "stream",
     "text": [
      "chr1\t114544\tAAC\tA\t30.279\tINDEL\t1|0\n",
      "chr1\t115733\tA\tACT\t71.246\tINDEL\t1|0\n",
      "chr1\t118597\tA\tATAAT\t101.844\tINDEL\t1|0\n"
     ]
    }
   ],
   "source": [
    "!bcftools query \\\n",
    "    --format '%CHROM\\t%POS\\t%REF\\t%FIRST_ALT\\t%QUAL\\t%TYPE\\t[%GT]\\n' \\\n",
    "    -i 'CHROM==\"chr1\" && POS>100000 && POS <120000 && QUAL>30 && GT=\"1|0\" && TYPE!=\"snp\"' \\\n",
    "    $input_file 2>/dev/null | head"
   ]
  },
  {
   "cell_type": "markdown",
   "metadata": {
    "colab_type": "text",
    "id": "lYoEF1hz7040"
   },
   "source": [
    "This is just one small example. The [expressions](http://www.htslib.org/doc/bcftools.html#expressions) section of the documention is a useful resource for understanding how to query and filter VCF files."
   ]
  },
  {
   "cell_type": "markdown",
   "metadata": {
    "colab_type": "text",
    "id": "iF7WILGOwbI3"
   },
   "source": [
    "## Summary\n",
    "\n",
    "In this notebook we have introduced the Variant Call Format with an examplar file from the Medaka consensus and variant calling program. We have outlined the contents of such files and how they can be intepreted with a selection of common software packages.\n",
    "\n",
    "The code tools presented here can be run on any dataset from an Oxford Nanopore Technologies' device. The code will run within **Google Colab** when connected to a local **EPI2ME Labs** notebook server.\n",
    "\n",
    "[Back to EPI2ME Labs](https://colab.research.google.com/github/epi2me-labs/resources/blob/master/welcome.ipynb)\n"
   ]
  },
  {
   "cell_type": "code",
   "execution_count": null,
   "metadata": {},
   "outputs": [],
   "source": []
  }
 ],
 "metadata": {
  "colab": {
   "collapsed_sections": [],
   "include_colab_link": true,
   "name": "Introduction to Variant Call Format (.vcf) files",
   "provenance": [],
   "toc_visible": true
  },
  "kernelspec": {
   "display_name": "Python 3",
   "language": "python",
   "name": "python3"
  },
  "language_info": {
   "codemirror_mode": {
    "name": "ipython",
    "version": 3
   },
   "file_extension": ".py",
   "mimetype": "text/x-python",
   "name": "python",
   "nbconvert_exporter": "python",
   "pygments_lexer": "ipython3",
   "version": "3.6.10"
  }
 },
 "nbformat": 4,
 "nbformat_minor": 4
}
